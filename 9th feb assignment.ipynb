{
 "cells": [
  {
   "cell_type": "code",
   "execution_count": 5,
   "id": "8e5e7b23-9200-416a-bd51-f11b25d1332b",
   "metadata": {},
   "outputs": [],
   "source": [
    "class vehicle :\n",
    "    def __init__(self , name , speed, average ):\n",
    "        self.name_of_vehicle = name\n",
    "        self.max_speed = speed\n",
    "        self.average_of_vehicle = average\n",
    "        \n",
    "    def vehicle_details(self):\n",
    "        return self.average_of_vehicle , self.max_speed , self.name_of_vehicle\n",
    "    \n",
    "    "
   ]
  },
  {
   "cell_type": "code",
   "execution_count": 7,
   "id": "c83d4fcf-df11-47df-9b50-02298f56f29e",
   "metadata": {},
   "outputs": [
    {
     "data": {
      "text/plain": [
       "(250, 900, 'honda')"
      ]
     },
     "execution_count": 7,
     "metadata": {},
     "output_type": "execute_result"
    }
   ],
   "source": [
    "car = vehicle(\"honda\" , 900 , 250)\n",
    "car.vehicle_details()"
   ]
  },
  {
   "cell_type": "code",
   "execution_count": null,
   "id": "55fdb116-cc14-46db-bed7-96e7761bed68",
   "metadata": {},
   "outputs": [],
   "source": []
  },
  {
   "cell_type": "code",
   "execution_count": 10,
   "id": "d3171a7f-b9ad-4678-be39-ec71049e1aac",
   "metadata": {},
   "outputs": [],
   "source": [
    "class vehicle :\n",
    "    def __init__(self,name):\n",
    "        self.name = name \n",
    "\n",
    "class car(vehicle):\n",
    "    def seating_capacity(self,capacity):\n",
    "        return f\"in {self.name} , {capacity} people can sit \""
   ]
  },
  {
   "cell_type": "code",
   "execution_count": 11,
   "id": "89471fc5-35da-4b19-9121-32a1ce8dc597",
   "metadata": {},
   "outputs": [],
   "source": [
    "ex_car = car(\"tom\")"
   ]
  },
  {
   "cell_type": "code",
   "execution_count": 12,
   "id": "5f93fb82-1d42-46aa-9a1b-ea0930cd5e1d",
   "metadata": {},
   "outputs": [
    {
     "data": {
      "text/plain": [
       "'in tom , 5 people can sit '"
      ]
     },
     "execution_count": 12,
     "metadata": {},
     "output_type": "execute_result"
    }
   ],
   "source": [
    "ex_car.seating_capacity(5)"
   ]
  },
  {
   "cell_type": "code",
   "execution_count": null,
   "id": "d82ba85b-504d-4a90-a68e-ba0dfa96a775",
   "metadata": {},
   "outputs": [],
   "source": []
  },
  {
   "cell_type": "code",
   "execution_count": null,
   "id": "012d9cb3-d929-427c-a72e-778063f49a76",
   "metadata": {},
   "outputs": [],
   "source": [
    " #in multiple inheritance a child class can inherit the property and methods of multiple base class .\n",
    "    \n",
    "    class pwskills:\n",
    "        def print_a(self):\n",
    "            print(\"pwskills\")\n",
    "    class datascience:\n",
    "        def print_b(self):\n",
    "            print(\"data_science\")\n",
    "    \n",
    "    class child( pwskills ,datascience):\n",
    "        pass"
   ]
  },
  {
   "cell_type": "code",
   "execution_count": null,
   "id": "24dbd9bd-fcf5-41cf-af6c-082daa0cf0d8",
   "metadata": {},
   "outputs": [],
   "source": []
  },
  {
   "cell_type": "code",
   "execution_count": null,
   "id": "6cf18048-9ce9-4843-aa4e-614885d1f7f9",
   "metadata": {},
   "outputs": [],
   "source": [
    " In multiple inheritance one child class can inherit the properties and methods of multiple base class ."
   ]
  },
  {
   "cell_type": "code",
   "execution_count": 6,
   "id": "df4490a5-c76b-4ea1-b8e5-f467105e9933",
   "metadata": {},
   "outputs": [],
   "source": [
    "\n",
    "    \n",
    "    class pwskills:\n",
    "        def print_a(self):\n",
    "            print(\"skills\")\n",
    "    class datascience:\n",
    "        def print_b(self):\n",
    "            print(\"data_science\")\n",
    "    \n",
    "    class child( pwskills ,datascience):\n",
    "        pass"
   ]
  },
  {
   "cell_type": "code",
   "execution_count": 7,
   "id": "0a1cd4f5-98c6-446a-8dac-9b2914c2d852",
   "metadata": {},
   "outputs": [],
   "source": [
    "obj =child()"
   ]
  },
  {
   "cell_type": "code",
   "execution_count": 12,
   "id": "b09e1813-ff53-44e3-ada3-3f8f9d501b3a",
   "metadata": {},
   "outputs": [
    {
     "name": "stdout",
     "output_type": "stream",
     "text": [
      "skills\n"
     ]
    }
   ],
   "source": [
    "child.print_a(\"d\")"
   ]
  },
  {
   "cell_type": "code",
   "execution_count": null,
   "id": "d54ffc46-ef19-499a-933f-d0446d9a293a",
   "metadata": {},
   "outputs": [],
   "source": []
  },
  {
   "cell_type": "code",
   "execution_count": null,
   "id": "3c9b5006-710f-4f34-b898-b2505b9c3a12",
   "metadata": {},
   "outputs": [],
   "source": [
    "getter and setter methods are used to control the acess to the class attributes and methods . they allow us to define a method thatgets or sets \n",
    "the value of particular attribute , rther than directly accessing the property ."
   ]
  },
  {
   "cell_type": "code",
   "execution_count": 14,
   "id": "065f6825-0413-4d9f-ab33-de66b3a4bbe4",
   "metadata": {},
   "outputs": [],
   "source": [
    "class student :\n",
    "    \n",
    "    def __init__(self , name , mark ):\n",
    "        self.name = name \n",
    "        self.__mark = mark\n",
    "            \n",
    "    @property\n",
    "    def acess_mark(self):\n",
    "        return self.__mark\n",
    "    \n",
    "    @acess_mark.setter \n",
    "    def student_new_mark(self, newmark):\n",
    "        self.__mark = newmark\n",
    "        "
   ]
  },
  {
   "cell_type": "code",
   "execution_count": 17,
   "id": "0cb35b60-4c4c-4e74-a650-f69028976db1",
   "metadata": {},
   "outputs": [
    {
     "data": {
      "text/plain": [
       "2"
      ]
     },
     "execution_count": 17,
     "metadata": {},
     "output_type": "execute_result"
    }
   ],
   "source": [
    "obj = student( \"aryan\" , 2)\n",
    "obj.acess_mark"
   ]
  },
  {
   "cell_type": "code",
   "execution_count": 27,
   "id": "33dde1e6-0dfe-4d7d-b67d-80ebaac74691",
   "metadata": {},
   "outputs": [
    {
     "data": {
      "text/plain": [
       "12"
      ]
     },
     "execution_count": 27,
     "metadata": {},
     "output_type": "execute_result"
    }
   ],
   "source": [
    "obj.student_new_mark = 12\n",
    "obj.student_new_mark"
   ]
  },
  {
   "cell_type": "code",
   "execution_count": null,
   "id": "163ac973-dbce-4128-b78c-1d61919aee87",
   "metadata": {},
   "outputs": [],
   "source": []
  },
  {
   "cell_type": "code",
   "execution_count": null,
   "id": "b065bc09-f522-4dc6-ba79-375c7452a683",
   "metadata": {},
   "outputs": [],
   "source": [
    "method overriding is a process of redefining a method of parent class in child class . \n",
    "when method in the child class has the same method name and parameters , then it is said that the child class method override the parent class method."
   ]
  },
  {
   "cell_type": "code",
   "execution_count": 31,
   "id": "a6eb1272-8f95-4a72-9c0d-819f5b58910f",
   "metadata": {},
   "outputs": [
    {
     "data": {
      "text/plain": [
       "'25 students'"
      ]
     },
     "execution_count": 31,
     "metadata": {},
     "output_type": "execute_result"
    }
   ],
   "source": [
    "class pwskills:\n",
    "    def data_science(self):\n",
    "        return \"25 students\"\n",
    "    \n",
    "class pwskills_2(pwskills):\n",
    "    def data_science(self):\n",
    "        return \"250 students\"\n",
    "    \n",
    "pw = pwskills()\n",
    "pw.data_science()"
   ]
  },
  {
   "cell_type": "code",
   "execution_count": 32,
   "id": "df96cdaa-99dd-4120-adb0-15c0c083f6b4",
   "metadata": {},
   "outputs": [
    {
     "data": {
      "text/plain": [
       "'250 students'"
      ]
     },
     "execution_count": 32,
     "metadata": {},
     "output_type": "execute_result"
    }
   ],
   "source": [
    "pw2 = pwskills_2()\n",
    "pw2.data_science()"
   ]
  }
 ],
 "metadata": {
  "kernelspec": {
   "display_name": "Python 3 (ipykernel)",
   "language": "python",
   "name": "python3"
  },
  "language_info": {
   "codemirror_mode": {
    "name": "ipython",
    "version": 3
   },
   "file_extension": ".py",
   "mimetype": "text/x-python",
   "name": "python",
   "nbconvert_exporter": "python",
   "pygments_lexer": "ipython3",
   "version": "3.10.8"
  }
 },
 "nbformat": 4,
 "nbformat_minor": 5
}
